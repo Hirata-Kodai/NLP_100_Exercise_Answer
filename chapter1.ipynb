{
    "cells": [
        {
            "cell_type": "code",
            "execution_count": 5,
            "source": [
                "# 00\n",
                "str = list('stressed')\n",
                "res  = ''\n",
                "for _ in range(len(str)):\n",
                "    res += str.pop()\n",
                "print(res)\n",
                "\n",
                "str = 'stressed'\n",
                "print(str[::-1])"
            ],
            "outputs": [
                {
                    "output_type": "stream",
                    "name": "stdout",
                    "text": [
                        "desserts\n",
                        "desserts\n"
                    ]
                }
            ],
            "metadata": {}
        },
        {
            "cell_type": "code",
            "execution_count": 13,
            "source": [
                "# 01\n",
                "str = 'パタトクカシーー'\n",
                "res = ''\n",
                "for i in range(len(str)):\n",
                "    if i % 2 == 0:\n",
                "        res += str[i]\n",
                "print(res)\n",
                "\n",
                "print(str[::2])"
            ],
            "outputs": [
                {
                    "output_type": "stream",
                    "name": "stdout",
                    "text": [
                        "パトカー\n",
                        "パトカー\n"
                    ]
                }
            ],
            "metadata": {}
        },
        {
            "cell_type": "code",
            "execution_count": 15,
            "source": [
                "s1 = 'パトカー'\n",
                "s2 = 'タクシー'\n",
                "res = ''\n",
                "for a, b in zip(s1,  s2):\n",
                "    res += a\n",
                "    res += b\n",
                "print(res)\n",
                "\n",
                "res = ''.join([a + b for a, b in zip(s1, s2)])\n",
                "print(res)"
            ],
            "outputs": [
                {
                    "output_type": "stream",
                    "name": "stdout",
                    "text": [
                        "パタトクカシーー\n",
                        "パタトクカシーー\n"
                    ]
                }
            ],
            "metadata": {}
        },
        {
            "cell_type": "code",
            "execution_count": 5,
            "source": [
                "# 03\n",
                "import re\n",
                "str = 'Now I need a drink, alcoholic of course, after the heavy lectures involving quantum mechanics.'\n",
                "str = re.sub('[,\\.]', '', str)\n",
                "res = [len(w) for w in str.split()]\n",
                "print(res)"
            ],
            "outputs": [
                {
                    "output_type": "stream",
                    "name": "stdout",
                    "text": [
                        "[3, 1, 4, 1, 5, 9, 2, 6, 5, 3, 5, 8, 9, 7, 9]\n"
                    ]
                }
            ],
            "metadata": {}
        },
        {
            "cell_type": "code",
            "execution_count": 23,
            "source": [
                "# 04\n",
                "str = 'Hi He Lied Because Boron Could Not Oxidize Fluorine. New Nations Might Also Sign Peace Security Clause. Arthur King Can.'\n",
                "res = {}\n",
                "for i, w in enumerate(str.split()):\n",
                "    if i in [i - 1 for i in [1, 5, 6, 7, 8, 9, 15, 16, 19]]:\n",
                "        res[w[0]] = i\n",
                "    else:\n",
                "        res[w[:2]] = i\n",
                "print(res)"
            ],
            "outputs": [
                {
                    "output_type": "stream",
                    "name": "stdout",
                    "text": [
                        "{'H': 0, 'He': 1, 'Li': 2, 'Be': 3, 'B': 4, 'C': 5, 'N': 6, 'O': 7, 'F': 8, 'Ne': 9, 'Na': 10, 'Mi': 11, 'Al': 12, 'Si': 13, 'P': 14, 'S': 15, 'Cl': 16, 'Ar': 17, 'K': 18, 'Ca': 19}\n"
                    ]
                }
            ],
            "metadata": {}
        },
        {
            "cell_type": "code",
            "execution_count": 10,
            "source": [
                "# 05\n",
                "def create_n_gram(n, seq):\n",
                "    res = [seq[i:i+n] for i in range(len(seq) + 1 - n)]\n",
                "    return res"
            ],
            "outputs": [],
            "metadata": {}
        },
        {
            "cell_type": "code",
            "execution_count": 20,
            "source": [
                "# 05\n",
                "str = 'I am an NLPer'\n",
                "str_c = re.sub(' ', '', str)\n",
                "str_w = str.split()\n",
                "print(create_n_gram(2, str_c))\n",
                "print(create_n_gram(2, str_w))"
            ],
            "outputs": [
                {
                    "output_type": "stream",
                    "name": "stdout",
                    "text": [
                        "['Ia', 'am', 'ma', 'an', 'nN', 'NL', 'LP', 'Pe', 'er']\n",
                        "[['I', 'am'], ['am', 'an'], ['an', 'NLPer']]\n"
                    ]
                }
            ],
            "metadata": {}
        },
        {
            "cell_type": "code",
            "execution_count": 30,
            "source": [
                "#06\n",
                "s1 = 'paraparaparadise'\n",
                "s2 = 'paragraph'\n",
                "X = set(create_n_gram(2, s1))\n",
                "Y = set(create_n_gram(2, s2))\n",
                "print(X | Y)\n",
                "print(X - Y)\n",
                "print(X & Y)\n",
                "print(f' \"se\" is in X? -> {\"se\" in X}')\n",
                "print(f' \"se\" is in Y? -> {\"se\" in Y}')"
            ],
            "outputs": [
                {
                    "output_type": "stream",
                    "name": "stdout",
                    "text": [
                        "{'ra', 'se', 'ap', 'ph', 'ar', 'is', 'pa', 'ag', 'di', 'ad', 'gr'}\n",
                        "{'di', 'ad', 'se', 'is'}\n",
                        "{'ra', 'pa', 'ap', 'ar'}\n",
                        " \"se\" is in X? -> True\n",
                        " \"se\" is in Y? -> False\n"
                    ]
                }
            ],
            "metadata": {}
        },
        {
            "cell_type": "code",
            "execution_count": 31,
            "source": [
                "# 07\n",
                "def template_sentence(x, y, z):\n",
                "    return f'{x}時の{y}は{z}'"
            ],
            "outputs": [],
            "metadata": {}
        },
        {
            "cell_type": "code",
            "execution_count": 33,
            "source": [
                "template_sentence(12, '気温', 22.4)"
            ],
            "outputs": [
                {
                    "output_type": "execute_result",
                    "data": {
                        "text/plain": [
                            "'12時の気温は22.4'"
                        ]
                    },
                    "metadata": {},
                    "execution_count": 33
                }
            ],
            "metadata": {}
        },
        {
            "cell_type": "code",
            "execution_count": 40,
            "source": [
                "# 08\n",
                "def chipher(str):\n",
                "    res = ''\n",
                "    for c in str:\n",
                "        if 97 <= ord(c) <= 122:\n",
                "            c = 219 - ord(c)\n",
                "            res += chr(c)\n",
                "        else:\n",
                "            res += c\n",
                "    return res"
            ],
            "outputs": [],
            "metadata": {}
        },
        {
            "cell_type": "code",
            "execution_count": 41,
            "source": [
                "chipher(''.join([chr(i) for i in range(97, 123)]))"
            ],
            "outputs": [
                {
                    "output_type": "execute_result",
                    "data": {
                        "text/plain": [
                            "'zyxwvutsrqponmlkjihgfedcba'"
                        ]
                    },
                    "metadata": {},
                    "execution_count": 41
                }
            ],
            "metadata": {}
        },
        {
            "cell_type": "code",
            "execution_count": 50,
            "source": [
                "# 09\n",
                "import random\n",
                "str = 'I couldn’t believe that I could actually understand what I was reading : the phenomenal power of the human mind .'\n",
                "res = ' '.join([w if len(w) <= 4  else w[0] + ''.join(random.sample(list(w[1:-1]), len(w[1:-1]))) + w[-1] for w in str.split()])\n",
                "print(res)"
            ],
            "outputs": [
                {
                    "output_type": "stream",
                    "name": "stdout",
                    "text": [
                        "I codlnu’t bleieve that I culod acatluly uasnrtnedd what I was redniag : the pneomhneal poewr of the haumn mind .\n"
                    ]
                }
            ],
            "metadata": {}
        },
        {
            "cell_type": "code",
            "execution_count": 59,
            "source": [
                "a = ''\n",
                "a[-1:]"
            ],
            "outputs": [
                {
                    "output_type": "execute_result",
                    "data": {
                        "text/plain": [
                            "''"
                        ]
                    },
                    "metadata": {},
                    "execution_count": 59
                }
            ],
            "metadata": {}
        },
        {
            "cell_type": "code",
            "execution_count": null,
            "source": [],
            "outputs": [],
            "metadata": {}
        },
        {
            "cell_type": "code",
            "execution_count": null,
            "source": [],
            "outputs": [],
            "metadata": {}
        }
    ],
    "metadata": {
        "orig_nbformat": 4,
        "language_info": {
            "name": "python",
            "version": "3.8.10",
            "mimetype": "text/x-python",
            "codemirror_mode": {
                "name": "ipython",
                "version": 3
            },
            "pygments_lexer": "ipython3",
            "nbconvert_exporter": "python",
            "file_extension": ".py"
        },
        "kernelspec": {
            "name": "python3",
            "display_name": "Python 3.8.10 64-bit ('venv': venv)"
        },
        "interpreter": {
            "hash": "96224d0d912806ad2c1c1ff9c38eae1a0b2d5bfa9a727b009681b27627f7f21c"
        }
    },
    "nbformat": 4,
    "nbformat_minor": 2
}